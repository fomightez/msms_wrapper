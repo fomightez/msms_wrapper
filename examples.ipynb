{
 "cells": [
  {
   "cell_type": "code",
   "execution_count": 15,
   "id": "cf1f1af5-714c-4a6e-8794-f9a31f495c4a",
   "metadata": {},
   "outputs": [
    {
     "name": "stdout",
     "output_type": "stream",
     "text": [
      "Requirement already satisfied: rdkit in /srv/conda/envs/notebook/lib/python3.10/site-packages (2024.3.5)\n",
      "Requirement already satisfied: numpy in /srv/conda/envs/notebook/lib/python3.10/site-packages (from rdkit) (2.1.1)\n",
      "Requirement already satisfied: Pillow in /srv/conda/envs/notebook/lib/python3.10/site-packages (from rdkit) (10.4.0)\n",
      "Note: you may need to restart the kernel to use updated packages.\n",
      "Collecting pyvista\n",
      "  Downloading pyvista-0.44.1-py3-none-any.whl.metadata (15 kB)\n",
      "Requirement already satisfied: matplotlib>=3.0.1 in /srv/conda/envs/notebook/lib/python3.10/site-packages (from pyvista) (3.9.2)\n",
      "Requirement already satisfied: numpy>=1.21.0 in /srv/conda/envs/notebook/lib/python3.10/site-packages (from pyvista) (2.1.1)\n",
      "Requirement already satisfied: pillow in /srv/conda/envs/notebook/lib/python3.10/site-packages (from pyvista) (10.4.0)\n",
      "Collecting pooch (from pyvista)\n",
      "  Downloading pooch-1.8.2-py3-none-any.whl.metadata (10 kB)\n",
      "Collecting scooby>=0.5.1 (from pyvista)\n",
      "  Downloading scooby-0.10.0-py3-none-any.whl.metadata (15 kB)\n",
      "Collecting vtk (from pyvista)\n",
      "  Downloading vtk-9.3.1-cp310-cp310-manylinux_2_17_x86_64.manylinux2014_x86_64.whl.metadata (5.2 kB)\n",
      "Requirement already satisfied: typing-extensions in /srv/conda/envs/notebook/lib/python3.10/site-packages (from pyvista) (4.12.2)\n",
      "Requirement already satisfied: contourpy>=1.0.1 in /srv/conda/envs/notebook/lib/python3.10/site-packages (from matplotlib>=3.0.1->pyvista) (1.3.0)\n",
      "Requirement already satisfied: cycler>=0.10 in /srv/conda/envs/notebook/lib/python3.10/site-packages (from matplotlib>=3.0.1->pyvista) (0.12.1)\n",
      "Requirement already satisfied: fonttools>=4.22.0 in /srv/conda/envs/notebook/lib/python3.10/site-packages (from matplotlib>=3.0.1->pyvista) (4.54.1)\n",
      "Requirement already satisfied: kiwisolver>=1.3.1 in /srv/conda/envs/notebook/lib/python3.10/site-packages (from matplotlib>=3.0.1->pyvista) (1.4.7)\n",
      "Requirement already satisfied: packaging>=20.0 in /srv/conda/envs/notebook/lib/python3.10/site-packages (from matplotlib>=3.0.1->pyvista) (24.1)\n",
      "Requirement already satisfied: pyparsing>=2.3.1 in /srv/conda/envs/notebook/lib/python3.10/site-packages (from matplotlib>=3.0.1->pyvista) (3.1.4)\n",
      "Requirement already satisfied: python-dateutil>=2.7 in /srv/conda/envs/notebook/lib/python3.10/site-packages (from matplotlib>=3.0.1->pyvista) (2.9.0)\n",
      "Requirement already satisfied: platformdirs>=2.5.0 in /srv/conda/envs/notebook/lib/python3.10/site-packages (from pooch->pyvista) (4.2.2)\n",
      "Requirement already satisfied: requests>=2.19.0 in /srv/conda/envs/notebook/lib/python3.10/site-packages (from pooch->pyvista) (2.32.3)\n",
      "Requirement already satisfied: six>=1.5 in /srv/conda/envs/notebook/lib/python3.10/site-packages (from python-dateutil>=2.7->matplotlib>=3.0.1->pyvista) (1.16.0)\n",
      "Requirement already satisfied: charset-normalizer<4,>=2 in /srv/conda/envs/notebook/lib/python3.10/site-packages (from requests>=2.19.0->pooch->pyvista) (3.3.2)\n",
      "Requirement already satisfied: idna<4,>=2.5 in /srv/conda/envs/notebook/lib/python3.10/site-packages (from requests>=2.19.0->pooch->pyvista) (3.8)\n",
      "Requirement already satisfied: urllib3<3,>=1.21.1 in /srv/conda/envs/notebook/lib/python3.10/site-packages (from requests>=2.19.0->pooch->pyvista) (2.2.2)\n",
      "Requirement already satisfied: certifi>=2017.4.17 in /srv/conda/envs/notebook/lib/python3.10/site-packages (from requests>=2.19.0->pooch->pyvista) (2024.7.4)\n",
      "Downloading pyvista-0.44.1-py3-none-any.whl (2.2 MB)\n",
      "\u001b[2K   \u001b[90m━━━━━━━━━━━━━━━━━━━━━━━━━━━━━━━━━━━━━━━━\u001b[0m \u001b[32m2.2/2.2 MB\u001b[0m \u001b[31m6.4 MB/s\u001b[0m eta \u001b[36m0:00:00\u001b[0ma \u001b[36m0:00:01\u001b[0m\n",
      "\u001b[?25hDownloading scooby-0.10.0-py3-none-any.whl (18 kB)\n",
      "Downloading pooch-1.8.2-py3-none-any.whl (64 kB)\n",
      "Downloading vtk-9.3.1-cp310-cp310-manylinux_2_17_x86_64.manylinux2014_x86_64.whl (92.1 MB)\n",
      "\u001b[2K   \u001b[90m━━━━━━━━━━━━━━━━━━━━━━━━━━━━━━━━━━━━━━━━\u001b[0m \u001b[32m92.1/92.1 MB\u001b[0m \u001b[31m7.2 MB/s\u001b[0m eta \u001b[36m0:00:00\u001b[0m00:01\u001b[0m00:01\u001b[0m\n",
      "\u001b[?25hInstalling collected packages: scooby, pooch, vtk, pyvista\n",
      "Successfully installed pooch-1.8.2 pyvista-0.44.1 scooby-0.10.0 vtk-9.3.1\n",
      "Note: you may need to restart the kernel to use updated packages.\n"
     ]
    }
   ],
   "source": [
    "%pip install rdkit\n",
    "%pip install pyvista"
   ]
  },
  {
   "cell_type": "code",
   "execution_count": 1,
   "id": "79719246-3dd3-412d-806a-0f4eb2d80100",
   "metadata": {},
   "outputs": [],
   "source": [
    "from io import BytesIO\n",
    "import os\n",
    "\n",
    "import numpy as np\n",
    "import msms.wrapper as msms\n",
    "import requests\n",
    "\n",
    "from rdkit import Chem"
   ]
  },
  {
   "cell_type": "markdown",
   "id": "4d992132-8dcf-4331-8922-4b53b2433fdc",
   "metadata": {},
   "source": [
    "# Check the installation"
   ]
  },
  {
   "cell_type": "markdown",
   "id": "34edf654-6345-4741-b65b-7f6007c64719",
   "metadata": {},
   "source": [
    "## Is msms available?\n",
    "msms needs to be in the PATH. We can check this using `msms_available`. If msms does not exist (or if we delete the PATH), it will return False."
   ]
  },
  {
   "cell_type": "code",
   "execution_count": 2,
   "id": "851dc1bd-42d4-4998-ac40-77cc740384b6",
   "metadata": {},
   "outputs": [
    {
     "name": "stdout",
     "output_type": "stream",
     "text": [
      "Can find msms? True\n"
     ]
    }
   ],
   "source": [
    "print(\"Can find msms?\", msms.msms_available())"
   ]
  },
  {
   "cell_type": "code",
   "execution_count": 3,
   "id": "8b2c38a3-e9ce-4dc8-8229-10db2cedd8de",
   "metadata": {},
   "outputs": [
    {
     "name": "stdout",
     "output_type": "stream",
     "text": [
      "With PATH set to empty:\n",
      "Can find msms? True\n"
     ]
    }
   ],
   "source": [
    "path = os.environ['PATH']\n",
    "os.environ['PATH'] = \"..\"\n",
    "print(\"With PATH set to empty:\")\n",
    "print(\"Can find msms?\", msms.msms_available())\n",
    "os.environ['PATH'] = path"
   ]
  },
  {
   "cell_type": "markdown",
   "id": "b2a40210-d75b-4348-bf1a-67854ffccec8",
   "metadata": {},
   "source": [
    "## Get help"
   ]
  },
  {
   "cell_type": "code",
   "execution_count": 4,
   "id": "1ccb1368-7ed9-40f7-aff7-f9ff318f0c45",
   "metadata": {},
   "outputs": [
    {
     "name": "stdout",
     "output_type": "stream",
     "text": [
      "Usage : msms parameters \n",
      "  -probe_radius float : probe sphere radius, [1.5]\n",
      "  -density float      : surface points density, [1.0]\n",
      "  -hdensity float     : surface points high density, [3.0]\n",
      "  -surface <tses,ases>: triangulated or Analytical SES, [tses]\n",
      "  -no_area            : turns off the analytical surface area computation\n",
      "  -socketName servicename : socket connection from a client\n",
      "  -socketPort portNumber : socket connection from a client\n",
      "  -xdr                : use xdr encoding over socket\n",
      "  -sinetd             : inetd server connection\n",
      "  -noh                : ignore atoms with radius 1.2\n",
      "  -no_rest_on_pbr     : no restart if pb. during triangulation\n",
      "  -no_rest            : no restart if pb. are encountered\n",
      "  -if filename        : sphere input file\n",
      "  -of filename        : output for triangulated surface\n",
      "  -af filename        : area file\n",
      "  -no_header         : do not add comment line to the output\n",
      "  -free_vertices      : turns on computation for isolated RS vertices\n",
      "  -all_components     : compute all the surfaces components\n",
      "  -one_cavity #atoms at1 [at2][at3] : Compute the surface for an internal                        cavity for which at least one atom is specified\n",
      "\n"
     ]
    }
   ],
   "source": [
    "print(msms.help())"
   ]
  },
  {
   "cell_type": "markdown",
   "id": "bcfa34c7-8603-4eb4-89fb-fb9e0930b4f1",
   "metadata": {},
   "source": [
    "# Get a structure\n",
    "**We need:**\n",
    "* coordinates (in this case, from the RCSB pdb)\n",
    "* radii (in this case, using the mBondi2 definition as used in the Ambertools)"
   ]
  },
  {
   "cell_type": "code",
   "execution_count": 5,
   "id": "a123dd47-7616-4a3a-9c4b-ab1d8c959cf4",
   "metadata": {},
   "outputs": [],
   "source": [
    "response = requests.get(\"https://files.rcsb.org/ligands/download/5P8_model.sdf\")\n",
    "lorlatinib = next(Chem.ForwardSDMolSupplier(BytesIO(response.content)))"
   ]
  },
  {
   "cell_type": "code",
   "execution_count": 6,
   "id": "927be124-3f19-4c61-837a-eb3db7044687",
   "metadata": {},
   "outputs": [],
   "source": [
    "points = lorlatinib.GetConformer(0).GetPositions()\n",
    "points -= points.mean(0)"
   ]
  },
  {
   "cell_type": "code",
   "execution_count": 7,
   "id": "50295807-800d-46ab-a43d-2f0e1e479659",
   "metadata": {},
   "outputs": [],
   "source": [
    "MBONDI2_RADII = {\n",
    "    \"C\": 1.7,\n",
    "    \"N\": 1.55,\n",
    "    \"O\": 1.8,\n",
    "    \"Cl\": 1.5,\n",
    "    \"Si\": 2.1,\n",
    "    \"P\": 1.85,\n",
    "    \"S\": 1.8,\n",
    "    \"Br\": 1.7,\n",
    "}\n",
    "\n",
    "def get_mbondi2_radii(mol):\n",
    "    \"\"\"Return the mBondi2 radii of a mol as a list\"\"\"\n",
    "    periodic_table = Chem.GetPeriodicTable()\n",
    "    out = []\n",
    "    for i_atom, atom in enumerate(mol.GetAtoms()):\n",
    "        elem = periodic_table.GetElementSymbol(atom.GetAtomicNum())\n",
    "        if elem in MBONDI2_RADII:\n",
    "            radius = MBONDI2_RADII[elem]\n",
    "        elif elem == \"H\":\n",
    "            bonded = atom.GetNeighbors()[0]\n",
    "            bonded_elem = periodic_table.GetElementSymbol(bonded.GetAtomicNum())\n",
    "            if bonded_elem == \"N\":\n",
    "                radius = 1.3\n",
    "            else:\n",
    "                radius = 1.2\n",
    "        else:\n",
    "            radius = 1.5\n",
    "        out.append(radius)\n",
    "    return np.array(out)"
   ]
  },
  {
   "cell_type": "code",
   "execution_count": 8,
   "id": "f42d24c5-1c08-4a42-8e90-1d5157c251ce",
   "metadata": {},
   "outputs": [],
   "source": [
    "radii = get_mbondi2_radii(lorlatinib)"
   ]
  },
  {
   "cell_type": "markdown",
   "id": "89407a43-2c5b-4766-986d-4bb1fc23504c",
   "metadata": {},
   "source": [
    "# Run MSMS\n",
    "## Usage\n",
    "* Pairs of arguments can be added as `kwargs`, usually like `density=2.0` or `probe_radius=1.0`\n",
    "* Further msms arguments can be added as `*args`, like `\"-free_vertices\"`\n",
    "## Output format\n",
    "* msms_out.vertices contains all information on vertices (position, normals, type etc.)\n",
    "* Best split it into several numpy arrays"
   ]
  },
  {
   "cell_type": "code",
   "execution_count": 9,
   "id": "c89657ff-189e-4886-8cf5-164fde0938e2",
   "metadata": {},
   "outputs": [],
   "source": [
    "msms_out = msms.run_msms(points, radii, density=5.0, probe_radius=1)\n",
    "verts = msms_out.get_vertex_positions()\n",
    "normals = msms_out.get_vertex_normals()\n",
    "faces = msms_out.get_face_indices()"
   ]
  },
  {
   "cell_type": "markdown",
   "id": "13e8f868-3ed1-474a-9f8b-5ceb7a43a79d",
   "metadata": {},
   "source": [
    "# Visualize\n",
    "(NOTE THIS SECTION WON'T WORK AS WRITTEN CURRENTLY VIA MyBinder, as spelled out [here 'Remote JupyterHubs'](https://tutorial.pyvista.org/tutorial/00_jupyter/index.html#remote-jupyterhubs) because a remote JupyterHub is involved. At this point, I don't know enough about what type of data this is to see how to connect it. But I think it should be possible given I know ipyvolume works in Jupyter and https://github.com/InsightSoftwareConsortium/itk-jupyter-widgets .I note that VTK should work in MyBinder as I'ves used it before, see even the launch badge [here](https://github.com/trungleduc/jupyterview).)\n",
    "\n",
    "If `pyvista` (or a similar package) is installed, the surface can be visualized in a Jupyter Notebook\n",
    "\n",
    "Note: this sometimes crashes when using `Run all cells`\n",
    "\n"
   ]
  },
  {
   "cell_type": "code",
   "execution_count": 10,
   "id": "30b4d84f-9bf1-481e-a405-62ccb2c3d0c1",
   "metadata": {},
   "outputs": [],
   "source": [
    "import pyvista"
   ]
  },
  {
   "cell_type": "code",
   "execution_count": 11,
   "id": "0bd15e6e-3196-4788-be96-c4e8cf368806",
   "metadata": {},
   "outputs": [],
   "source": [
    "def for_pyvista(arr):\n",
    "    out = []\n",
    "    for row in arr:\n",
    "        out.append(len(row))\n",
    "        out.extend(row)\n",
    "    return out"
   ]
  },
  {
   "cell_type": "code",
   "execution_count": 12,
   "id": "6565a7b9-d753-4360-a421-812f531433c0",
   "metadata": {},
   "outputs": [
    {
     "ename": "ImportError",
     "evalue": "libGL.so.1: cannot open shared object file: No such file or directory",
     "output_type": "error",
     "traceback": [
      "\u001b[0;31m---------------------------------------------------------------------------\u001b[0m",
      "\u001b[0;31mImportError\u001b[0m                               Traceback (most recent call last)",
      "Cell \u001b[0;32mIn[12], line 2\u001b[0m\n\u001b[1;32m      1\u001b[0m surf \u001b[38;5;241m=\u001b[39m pyvista\u001b[38;5;241m.\u001b[39mPolyData(verts, faces\u001b[38;5;241m=\u001b[39mfor_pyvista(faces))\n\u001b[0;32m----> 2\u001b[0m \u001b[43msurf\u001b[49m\u001b[38;5;241;43m.\u001b[39;49m\u001b[43mplot\u001b[49m\u001b[43m(\u001b[49m\u001b[43m)\u001b[49m\n",
      "File \u001b[0;32m/srv/conda/envs/notebook/lib/python3.10/site-packages/pyvista/_plot.py:220\u001b[0m, in \u001b[0;36mplot\u001b[0;34m(var_item, off_screen, full_screen, screenshot, interactive, cpos, window_size, show_bounds, show_axes, notebook, background, text, return_img, eye_dome_lighting, volume, parallel_projection, jupyter_backend, return_viewer, return_cpos, jupyter_kwargs, theme, anti_aliasing, zoom, border, border_color, border_width, ssao, **kwargs)\u001b[0m\n\u001b[1;32m    217\u001b[0m show_grid \u001b[38;5;241m=\u001b[39m kwargs\u001b[38;5;241m.\u001b[39mpop(\u001b[38;5;124m'\u001b[39m\u001b[38;5;124mshow_grid\u001b[39m\u001b[38;5;124m'\u001b[39m, \u001b[38;5;28;01mFalse\u001b[39;00m)\n\u001b[1;32m    218\u001b[0m auto_close \u001b[38;5;241m=\u001b[39m kwargs\u001b[38;5;241m.\u001b[39mget(\u001b[38;5;124m'\u001b[39m\u001b[38;5;124mauto_close\u001b[39m\u001b[38;5;124m'\u001b[39m)\n\u001b[0;32m--> 220\u001b[0m pl \u001b[38;5;241m=\u001b[39m \u001b[43mpyvista\u001b[49m\u001b[38;5;241;43m.\u001b[39;49m\u001b[43mPlotter\u001b[49m(\n\u001b[1;32m    221\u001b[0m     window_size\u001b[38;5;241m=\u001b[39mwindow_size,\n\u001b[1;32m    222\u001b[0m     off_screen\u001b[38;5;241m=\u001b[39moff_screen,\n\u001b[1;32m    223\u001b[0m     notebook\u001b[38;5;241m=\u001b[39mnotebook,\n\u001b[1;32m    224\u001b[0m     theme\u001b[38;5;241m=\u001b[39mtheme,\n\u001b[1;32m    225\u001b[0m     border\u001b[38;5;241m=\u001b[39mborder,\n\u001b[1;32m    226\u001b[0m     border_color\u001b[38;5;241m=\u001b[39mborder_color,\n\u001b[1;32m    227\u001b[0m     border_width\u001b[38;5;241m=\u001b[39mborder_width,\n\u001b[1;32m    228\u001b[0m )\n\u001b[1;32m    230\u001b[0m \u001b[38;5;28;01mif\u001b[39;00m show_axes \u001b[38;5;129;01mis\u001b[39;00m \u001b[38;5;28;01mNone\u001b[39;00m:\n\u001b[1;32m    231\u001b[0m     show_axes \u001b[38;5;241m=\u001b[39m pl\u001b[38;5;241m.\u001b[39mtheme\u001b[38;5;241m.\u001b[39maxes\u001b[38;5;241m.\u001b[39mshow\n",
      "File \u001b[0;32m/srv/conda/envs/notebook/lib/python3.10/site-packages/pyvista/__init__.py:108\u001b[0m, in \u001b[0;36m__getattr__\u001b[0;34m(name)\u001b[0m\n\u001b[1;32m    106\u001b[0m \u001b[38;5;66;03m# avoid recursive import\u001b[39;00m\n\u001b[1;32m    107\u001b[0m \u001b[38;5;28;01mif\u001b[39;00m \u001b[38;5;124m'\u001b[39m\u001b[38;5;124mpyvista.plotting\u001b[39m\u001b[38;5;124m'\u001b[39m \u001b[38;5;129;01mnot\u001b[39;00m \u001b[38;5;129;01min\u001b[39;00m sys\u001b[38;5;241m.\u001b[39mmodules:\n\u001b[0;32m--> 108\u001b[0m     \u001b[38;5;28;01mimport\u001b[39;00m \u001b[38;5;21;01mpyvista\u001b[39;00m\u001b[38;5;21;01m.\u001b[39;00m\u001b[38;5;21;01mplotting\u001b[39;00m\n\u001b[1;32m    110\u001b[0m \u001b[38;5;28;01mtry\u001b[39;00m:\n\u001b[1;32m    111\u001b[0m     feature \u001b[38;5;241m=\u001b[39m inspect\u001b[38;5;241m.\u001b[39mgetattr_static(sys\u001b[38;5;241m.\u001b[39mmodules[\u001b[38;5;124m'\u001b[39m\u001b[38;5;124mpyvista.plotting\u001b[39m\u001b[38;5;124m'\u001b[39m], name)\n",
      "File \u001b[0;32m/srv/conda/envs/notebook/lib/python3.10/site-packages/pyvista/plotting/__init__.py:9\u001b[0m\n\u001b[1;32m      6\u001b[0m \u001b[38;5;28;01mfrom\u001b[39;00m \u001b[38;5;21;01mpyvista\u001b[39;00m \u001b[38;5;28;01mimport\u001b[39;00m MAX_N_COLOR_BARS\n\u001b[1;32m      7\u001b[0m \u001b[38;5;28;01mfrom\u001b[39;00m \u001b[38;5;21;01mpyvista\u001b[39;00m\u001b[38;5;21;01m.\u001b[39;00m\u001b[38;5;21;01m_plot\u001b[39;00m \u001b[38;5;28;01mimport\u001b[39;00m plot\n\u001b[0;32m----> 9\u001b[0m \u001b[38;5;28;01mfrom\u001b[39;00m \u001b[38;5;21;01m.\u001b[39;00m \u001b[38;5;28;01mimport\u001b[39;00m _vtk\n\u001b[1;32m     10\u001b[0m \u001b[38;5;28;01mfrom\u001b[39;00m \u001b[38;5;21;01m.\u001b[39;00m\u001b[38;5;21;01m_property\u001b[39;00m \u001b[38;5;28;01mimport\u001b[39;00m Property\n\u001b[1;32m     11\u001b[0m \u001b[38;5;28;01mfrom\u001b[39;00m \u001b[38;5;21;01m.\u001b[39;00m\u001b[38;5;21;01m_typing\u001b[39;00m \u001b[38;5;28;01mimport\u001b[39;00m Chart\n",
      "File \u001b[0;32m/srv/conda/envs/notebook/lib/python3.10/site-packages/pyvista/plotting/_vtk.py:31\u001b[0m\n\u001b[1;32m     29\u001b[0m \u001b[38;5;28;01mfrom\u001b[39;00m \u001b[38;5;21;01mvtkmodules\u001b[39;00m\u001b[38;5;21;01m.\u001b[39;00m\u001b[38;5;21;01mvtkChartsCore\u001b[39;00m \u001b[38;5;28;01mimport\u001b[39;00m vtkPlotSurface\n\u001b[1;32m     30\u001b[0m \u001b[38;5;28;01mfrom\u001b[39;00m \u001b[38;5;21;01mvtkmodules\u001b[39;00m\u001b[38;5;21;01m.\u001b[39;00m\u001b[38;5;21;01mvtkCommonColor\u001b[39;00m \u001b[38;5;28;01mimport\u001b[39;00m vtkColorSeries\n\u001b[0;32m---> 31\u001b[0m \u001b[38;5;28;01mfrom\u001b[39;00m \u001b[38;5;21;01mvtkmodules\u001b[39;00m\u001b[38;5;21;01m.\u001b[39;00m\u001b[38;5;21;01mvtkInteractionWidgets\u001b[39;00m \u001b[38;5;28;01mimport\u001b[39;00m vtkBoxWidget\n\u001b[1;32m     32\u001b[0m \u001b[38;5;28;01mfrom\u001b[39;00m \u001b[38;5;21;01mvtkmodules\u001b[39;00m\u001b[38;5;21;01m.\u001b[39;00m\u001b[38;5;21;01mvtkInteractionWidgets\u001b[39;00m \u001b[38;5;28;01mimport\u001b[39;00m vtkButtonWidget\n\u001b[1;32m     33\u001b[0m \u001b[38;5;28;01mfrom\u001b[39;00m \u001b[38;5;21;01mvtkmodules\u001b[39;00m\u001b[38;5;21;01m.\u001b[39;00m\u001b[38;5;21;01mvtkInteractionWidgets\u001b[39;00m \u001b[38;5;28;01mimport\u001b[39;00m vtkDistanceRepresentation3D\n",
      "\u001b[0;31mImportError\u001b[0m: libGL.so.1: cannot open shared object file: No such file or directory"
     ]
    }
   ],
   "source": [
    "surf = pyvista.PolyData(verts, faces=for_pyvista(faces))\n",
    "surf.plot()"
   ]
  },
  {
   "cell_type": "markdown",
   "id": "b1df2a4a-a660-42cb-8beb-e73e2d8ef058",
   "metadata": {},
   "source": [
    "# Minimal usage example"
   ]
  },
  {
   "cell_type": "markdown",
   "id": "af7f4197-9610-4ea1-adf7-09bd1f458adf",
   "metadata": {},
   "source": [
    "Use `msms` to compute the surface area of a unit sphere.\n",
    "\n",
    "* The SES and SAS are analyical.\n",
    "* The volume is numerical. In the case of a single sphere, it is always too small, but converges with high density."
   ]
  },
  {
   "cell_type": "code",
   "execution_count": 13,
   "id": "36bc3e08-b547-43cc-a2fa-2ac5095ceed2",
   "metadata": {},
   "outputs": [
    {
     "name": "stdout",
     "output_type": "stream",
     "text": [
      "expected SES 12.566370614359172\n",
      "expected SAS 78.53981633974483\n",
      "expected volume 4.1887902047863905\n"
     ]
    },
    {
     "data": {
      "text/plain": [
       "SizeDescriptors(ses=12.566, sas=78.54, volume=3.082)"
      ]
     },
     "execution_count": 13,
     "metadata": {},
     "output_type": "execute_result"
    }
   ],
   "source": [
    "xyz = [[0., 0., 0.]]\n",
    "radii = [1.]\n",
    "print('expected SES', 4*np.pi)\n",
    "print('expected SAS', 4*np.pi * 2.5**2) # 2.5 = radius + probe_radius\n",
    "print('expected volume', 4/3*np.pi)\n",
    "msms.run_msms(xyz, radii, density=2).extract_ses_sas_vol()"
   ]
  },
  {
   "cell_type": "code",
   "execution_count": null,
   "id": "4e99efb2-bce6-4216-a509-3a27fbeb0798",
   "metadata": {},
   "outputs": [],
   "source": []
  },
  {
   "cell_type": "code",
   "execution_count": null,
   "id": "c6a35094-f3b7-4e66-b1df-68dfc1dd8735",
   "metadata": {},
   "outputs": [],
   "source": []
  }
 ],
 "metadata": {
  "kernelspec": {
   "display_name": "Python 3 (ipykernel)",
   "language": "python",
   "name": "python3"
  },
  "language_info": {
   "codemirror_mode": {
    "name": "ipython",
    "version": 3
   },
   "file_extension": ".py",
   "mimetype": "text/x-python",
   "name": "python",
   "nbconvert_exporter": "python",
   "pygments_lexer": "ipython3",
   "version": "3.10.14"
  }
 },
 "nbformat": 4,
 "nbformat_minor": 5
}
