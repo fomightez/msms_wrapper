{
 "cells": [
  {
   "cell_type": "code",
   "execution_count": 1,
   "id": "79719246-3dd3-412d-806a-0f4eb2d80100",
   "metadata": {},
   "outputs": [],
   "source": [
    "from io import BytesIO\n",
    "import os\n",
    "\n",
    "import numpy as np\n",
    "import msms.wrapper as msms\n",
    "import requests\n",
    "\n",
    "from rdkit import Chem"
   ]
  },
  {
   "cell_type": "markdown",
   "id": "4d992132-8dcf-4331-8922-4b53b2433fdc",
   "metadata": {},
   "source": [
    "# Check the installation"
   ]
  },
  {
   "cell_type": "markdown",
   "id": "34edf654-6345-4741-b65b-7f6007c64719",
   "metadata": {},
   "source": [
    "## Is msms available?\n",
    "msms needs to be in the PATH. We can check this using `msms_available`. If msms does not exist (or if we delete the PATH), it will return False."
   ]
  },
  {
   "cell_type": "code",
   "execution_count": 2,
   "id": "851dc1bd-42d4-4998-ac40-77cc740384b6",
   "metadata": {},
   "outputs": [
    {
     "name": "stdout",
     "output_type": "stream",
     "text": [
      "Can find msms? True\n"
     ]
    }
   ],
   "source": [
    "print(\"Can find msms?\", msms.msms_available())"
   ]
  },
  {
   "cell_type": "code",
   "execution_count": 3,
   "id": "8b2c38a3-e9ce-4dc8-8229-10db2cedd8de",
   "metadata": {},
   "outputs": [
    {
     "name": "stdout",
     "output_type": "stream",
     "text": [
      "With PATH set to empty:\n",
      "Can find msms? False\n"
     ]
    }
   ],
   "source": [
    "path = os.environ['PATH']\n",
    "os.environ['PATH'] = \"\"\n",
    "print(\"With PATH set to empty:\")\n",
    "print(\"Can find msms?\", msms.msms_available())\n",
    "os.environ['PATH'] = path"
   ]
  },
  {
   "cell_type": "markdown",
   "id": "b2a40210-d75b-4348-bf1a-67854ffccec8",
   "metadata": {},
   "source": [
    "## Get help"
   ]
  },
  {
   "cell_type": "code",
   "execution_count": 4,
   "id": "1ccb1368-7ed9-40f7-aff7-f9ff318f0c45",
   "metadata": {},
   "outputs": [
    {
     "name": "stdout",
     "output_type": "stream",
     "text": [
      "Usage : msms parameters \n",
      "  -probe_radius float : probe sphere radius, [1.5]\n",
      "  -density float      : surface points density, [1.0]\n",
      "  -hdensity float     : surface points high density, [3.0]\n",
      "  -surface <tses,ases>: triangulated or Analytical SES, [tses]\n",
      "  -no_area            : turns off the analytical surface area computation\n",
      "  -socketName servicename : socket connection from a client\n",
      "  -socketPort portNumber : socket connection from a client\n",
      "  -xdr                : use xdr encoding over socket\n",
      "  -sinetd             : inetd server connection\n",
      "  -noh                : ignore atoms with radius 1.2\n",
      "  -no_rest_on_pbr     : no restart if pb. during triangulation\n",
      "  -no_rest            : no restart if pb. are encountered\n",
      "  -if filename        : sphere input file\n",
      "  -of filename        : output for triangulated surface\n",
      "  -af filename        : area file\n",
      "  -no_header         : do not add comment line to the output\n",
      "  -free_vertices      : turns on computation for isolated RS vertices\n",
      "  -all_components     : compute all the surfaces components\n",
      "  -one_cavity #atoms at1 [at2][at3] : Compute the surface for an internal                        cavity for which at least one atom is specified\n",
      "\n"
     ]
    }
   ],
   "source": [
    "print(msms.help())"
   ]
  },
  {
   "cell_type": "markdown",
   "id": "bcfa34c7-8603-4eb4-89fb-fb9e0930b4f1",
   "metadata": {},
   "source": [
    "# Get a structure\n",
    "**We need:**\n",
    "* coordinates (in this case, from the RCSB pdb)\n",
    "* radii (in this case, using the mBondi2 definition as used in the Ambertools)"
   ]
  },
  {
   "cell_type": "code",
   "execution_count": 5,
   "id": "a123dd47-7616-4a3a-9c4b-ab1d8c959cf4",
   "metadata": {},
   "outputs": [],
   "source": [
    "response = requests.get(\"https://files.rcsb.org/ligands/download/5P8_model.sdf\")\n",
    "lorlatinib = next(Chem.ForwardSDMolSupplier(BytesIO(response.content)))"
   ]
  },
  {
   "cell_type": "code",
   "execution_count": 6,
   "id": "927be124-3f19-4c61-837a-eb3db7044687",
   "metadata": {},
   "outputs": [],
   "source": [
    "points = lorlatinib.GetConformer(0).GetPositions()\n",
    "points -= points.mean(0)"
   ]
  },
  {
   "cell_type": "code",
   "execution_count": 7,
   "id": "50295807-800d-46ab-a43d-2f0e1e479659",
   "metadata": {},
   "outputs": [],
   "source": [
    "MBONDI2_RADII = {\n",
    "    \"C\": 1.7,\n",
    "    \"N\": 1.55,\n",
    "    \"O\": 1.8,\n",
    "    \"Cl\": 1.5,\n",
    "    \"Si\": 2.1,\n",
    "    \"P\": 1.85,\n",
    "    \"S\": 1.8,\n",
    "    \"Br\": 1.7,\n",
    "}\n",
    "\n",
    "def get_mbondi2_radii(mol):\n",
    "    \"\"\"Return the mBondi2 radii of a mol as a list\"\"\"\n",
    "    periodic_table = Chem.GetPeriodicTable()\n",
    "    out = []\n",
    "    for i_atom, atom in enumerate(mol.GetAtoms()):\n",
    "        elem = periodic_table.GetElementSymbol(atom.GetAtomicNum())\n",
    "        if elem in MBONDI2_RADII:\n",
    "            radius = MBONDI2_RADII[elem]\n",
    "        elif elem == \"H\":\n",
    "            bonded = atom.GetNeighbors()[0]\n",
    "            bonded_elem = periodic_table.GetElementSymbol(bonded.GetAtomicNum())\n",
    "            if bonded_elem == \"N\":\n",
    "                radius = 1.3\n",
    "            else:\n",
    "                radius = 1.2\n",
    "        else:\n",
    "            radius = 1.5\n",
    "        out.append(radius)\n",
    "    return np.array(out)"
   ]
  },
  {
   "cell_type": "code",
   "execution_count": 8,
   "id": "f42d24c5-1c08-4a42-8e90-1d5157c251ce",
   "metadata": {},
   "outputs": [],
   "source": [
    "radii = get_mbondi2_radii(lorlatinib)"
   ]
  },
  {
   "cell_type": "markdown",
   "id": "89407a43-2c5b-4766-986d-4bb1fc23504c",
   "metadata": {},
   "source": [
    "# Run MSMS\n",
    "## Usage\n",
    "* Pairs of arguments can be added as `kwargs`, usually like `density=2.0` or `probe_radius=1.0`\n",
    "* Further msms arguments can be added as `*args`, like `\"-free_vertices\"`\n",
    "## Output format\n",
    "* msms_out.vertices contains all information on vertices (position, normals, type etc.)\n",
    "* Best split it into several numpy arrays"
   ]
  },
  {
   "cell_type": "code",
   "execution_count": 9,
   "id": "c89657ff-189e-4886-8cf5-164fde0938e2",
   "metadata": {},
   "outputs": [],
   "source": [
    "msms_out = msms.run_msms(points, radii, density=5.0, probe_radius=1)\n",
    "verts = msms_out.get_vertex_positions()\n",
    "normals = msms_out.get_vertex_normals()\n",
    "faces = msms_out.get_face_indices()"
   ]
  },
  {
   "cell_type": "markdown",
   "id": "13e8f868-3ed1-474a-9f8b-5ceb7a43a79d",
   "metadata": {},
   "source": [
    "# Visualize\n",
    "If `pyvista` (or a similar package) is installed, the surface can be visualized in a Jupyter Notebook\n",
    "\n",
    "Note: this sometimes crashes when using `Run all cells`"
   ]
  },
  {
   "cell_type": "code",
   "execution_count": 10,
   "id": "30b4d84f-9bf1-481e-a405-62ccb2c3d0c1",
   "metadata": {},
   "outputs": [],
   "source": [
    "import pyvista"
   ]
  },
  {
   "cell_type": "code",
   "execution_count": 11,
   "id": "0bd15e6e-3196-4788-be96-c4e8cf368806",
   "metadata": {},
   "outputs": [],
   "source": [
    "def for_pyvista(arr):\n",
    "    out = []\n",
    "    for row in arr:\n",
    "        out.append(len(row))\n",
    "        out.extend(row)\n",
    "    return out"
   ]
  },
  {
   "cell_type": "code",
   "execution_count": null,
   "id": "6565a7b9-d753-4360-a421-812f531433c0",
   "metadata": {},
   "outputs": [],
   "source": [
    "surf = pyvista.PolyData(verts, faces=for_pyvista(faces))\n",
    "surf.plot()"
   ]
  },
  {
   "cell_type": "markdown",
   "id": "b1df2a4a-a660-42cb-8beb-e73e2d8ef058",
   "metadata": {},
   "source": [
    "# Minimal usage example"
   ]
  },
  {
   "cell_type": "markdown",
   "id": "af7f4197-9610-4ea1-adf7-09bd1f458adf",
   "metadata": {},
   "source": [
    "Use `msms` to compute the surface area of a unit sphere.\n",
    "\n",
    "* The SES and SAS are analyical.\n",
    "* The volume is numerical. In the case of a single sphere, it is always too small, but converges with high density."
   ]
  },
  {
   "cell_type": "code",
   "execution_count": 13,
   "id": "36bc3e08-b547-43cc-a2fa-2ac5095ceed2",
   "metadata": {},
   "outputs": [
    {
     "name": "stdout",
     "output_type": "stream",
     "text": [
      "expected SES 12.566370614359172\n",
      "expected SAS 78.53981633974483\n",
      "expected volume 4.1887902047863905\n"
     ]
    },
    {
     "data": {
      "text/plain": [
       "SizeDescriptors(ses=12.566, sas=78.54, volume=3.082)"
      ]
     },
     "execution_count": 13,
     "metadata": {},
     "output_type": "execute_result"
    }
   ],
   "source": [
    "xyz = [[0., 0., 0.]]\n",
    "radii = [1.]\n",
    "print('expected SES', 4*np.pi)\n",
    "print('expected SAS', 4*np.pi * 2.5**2) # 2.5 = radius + probe_radius\n",
    "print('expected volume', 4/3*np.pi)\n",
    "msms.run_msms(xyz, radii, density=2).extract_ses_sas_vol()"
   ]
  },
  {
   "cell_type": "code",
   "execution_count": null,
   "id": "4e99efb2-bce6-4216-a509-3a27fbeb0798",
   "metadata": {},
   "outputs": [],
   "source": []
  },
  {
   "cell_type": "code",
   "execution_count": null,
   "id": "c6a35094-f3b7-4e66-b1df-68dfc1dd8735",
   "metadata": {},
   "outputs": [],
   "source": []
  }
 ],
 "metadata": {
  "kernelspec": {
   "display_name": "py310_2",
   "language": "python",
   "name": "py310_2"
  },
  "language_info": {
   "codemirror_mode": {
    "name": "ipython",
    "version": 3
   },
   "file_extension": ".py",
   "mimetype": "text/x-python",
   "name": "python",
   "nbconvert_exporter": "python",
   "pygments_lexer": "ipython3",
   "version": "3.10.0"
  }
 },
 "nbformat": 4,
 "nbformat_minor": 5
}
