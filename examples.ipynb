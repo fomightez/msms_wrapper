{
 "cells": [
  {
   "cell_type": "markdown",
   "id": "46dac85a-ed6b-4a28-bbe2-1b21579cf9f6",
   "metadata": {},
   "source": [
    "# Examples of msms_wrapper use\n",
    "\n",
    "This is to demonstrate use of a Python wrapper for the `msms` command-line program developed by Dr. Michel F. Sanner. The wrapper and msms can be used to compute triangulated solvent-excluded surfaces of molecules, as well as their solvent-accessible surface (SAS), solvent excluded surface (SES), and molecular volume.\n",
    "\n",
    "---------"
   ]
  },
  {
   "cell_type": "markdown",
   "id": "73b46f66-0bdd-44fc-b6f5-3a66756455eb",
   "metadata": {},
   "source": [
    "## Initial Setup\n",
    "\n",
    "First some disclosures and addressing a licensing issue....\n",
    "\n",
    "Note: While the Riniker Lab has put this wrapper under the MIT licence, `msms` is not. The msms_wrapper & effort to make it work with MyBinder-served Jupyter sessions are independent projects, and not affiliated with the `msms` program. You can obtain `msms` from https://ccsb.scripps.edu/msms/. For more information about the algorithm, see:\n",
    "\n",
    "Sanner, M. F., Olson A.J. & Spehner, J.-C. (1996). Reduced Surface: An Efficient Way to Compute Molecular Surfaces. Biopolymers 38:305-320.\n",
    "\n",
    "If you qualify for the license for detailed there, you can run the next cell in this session to get and install msmms:"
   ]
  },
  {
   "cell_type": "code",
   "execution_count": null,
   "id": "f10213e6-f9c8-41fb-a16c-41641a363dab",
   "metadata": {},
   "outputs": [],
   "source": [
    "msms_soft_zipped = \"msms_i86_64Linux2_2.6.1.tar.gz\"\n",
    "!mkdir -p ~/.local/bin\n",
    "%cd -q ~/.local/bin\n",
    "!curl -OL https://ccsb.scripps.edu/msms/download/933/{msms_soft_zipped}\n",
    "!tar xzf {msms_soft_zipped}\n",
    "msms_soft_fn = msms_soft_zipped.replace(\"_i\",\".x\").replace(\"Linux2_2\",\"Linux2.2\")[:-7]\n",
    "!ln -s ~/.local/bin/{msms_soft_fn} msms\n",
    "%cd -q ~\n",
    "print(\"***`msms` has been installed and an alias set in the system path that matches what the `msms_wrapper.py` script expects.***\")"
   ]
  },
  {
   "cell_type": "markdown",
   "id": "1fc3876c-0704-4e7e-95a9-7edae78a9a9d",
   "metadata": {},
   "source": [
    "With the msms software installed, run the cell below to complete the initial set up in order to run the code in the rest of the notebook."
   ]
  },
  {
   "cell_type": "code",
   "execution_count": null,
   "id": "79719246-3dd3-412d-806a-0f4eb2d80100",
   "metadata": {},
   "outputs": [],
   "source": [
    "from io import BytesIO\n",
    "import os\n",
    "\n",
    "import numpy as np\n",
    "import msms.wrapper as msms\n",
    "import requests\n",
    "\n",
    "from rdkit import Chem"
   ]
  },
  {
   "cell_type": "markdown",
   "id": "4d992132-8dcf-4331-8922-4b53b2433fdc",
   "metadata": {},
   "source": [
    "# Check the installation"
   ]
  },
  {
   "cell_type": "markdown",
   "id": "34edf654-6345-4741-b65b-7f6007c64719",
   "metadata": {},
   "source": [
    "## Is msms available?\n",
    "msms needs to be in the PATH. We can check this using `msms_available`. If msms does not exist (or if we delete the PATH), it will return False."
   ]
  },
  {
   "cell_type": "code",
   "execution_count": null,
   "id": "851dc1bd-42d4-4998-ac40-77cc740384b6",
   "metadata": {},
   "outputs": [],
   "source": [
    "print(\"Can find msms?\", msms.msms_available())"
   ]
  },
  {
   "cell_type": "code",
   "execution_count": null,
   "id": "8b2c38a3-e9ce-4dc8-8229-10db2cedd8de",
   "metadata": {},
   "outputs": [],
   "source": [
    "path = os.environ['PATH']\n",
    "os.environ['PATH'] = \"\"\n",
    "print(\"With PATH set to empty:\")\n",
    "print(\"Can find msms?\", msms.msms_available())\n",
    "os.environ['PATH'] = path"
   ]
  },
  {
   "cell_type": "markdown",
   "id": "b2a40210-d75b-4348-bf1a-67854ffccec8",
   "metadata": {},
   "source": [
    "## Get help"
   ]
  },
  {
   "cell_type": "code",
   "execution_count": null,
   "id": "1ccb1368-7ed9-40f7-aff7-f9ff318f0c45",
   "metadata": {},
   "outputs": [],
   "source": [
    "print(msms.help())"
   ]
  },
  {
   "cell_type": "markdown",
   "id": "17a3082b-6a61-44ec-b883-742200429d54",
   "metadata": {},
   "source": [
    "That last cell actually had contributions from both the msms software and the wrapper, and so if that cell above works, the rest of the noteboook should work, for the most part."
   ]
  },
  {
   "cell_type": "markdown",
   "id": "bcfa34c7-8603-4eb4-89fb-fb9e0930b4f1",
   "metadata": {},
   "source": [
    "# Get a structure\n",
    "**We need:**\n",
    "* coordinates (in this case, from the RCSB pdb)\n",
    "* radii (in this case, using the mBondi2 definition as used in the Ambertools)"
   ]
  },
  {
   "cell_type": "code",
   "execution_count": null,
   "id": "a123dd47-7616-4a3a-9c4b-ab1d8c959cf4",
   "metadata": {},
   "outputs": [],
   "source": [
    "response = requests.get(\"https://files.rcsb.org/ligands/download/5P8_model.sdf\")\n",
    "lorlatinib = next(Chem.ForwardSDMolSupplier(BytesIO(response.content)))"
   ]
  },
  {
   "cell_type": "code",
   "execution_count": null,
   "id": "927be124-3f19-4c61-837a-eb3db7044687",
   "metadata": {},
   "outputs": [],
   "source": [
    "points = lorlatinib.GetConformer(0).GetPositions()\n",
    "points -= points.mean(0)"
   ]
  },
  {
   "cell_type": "code",
   "execution_count": null,
   "id": "50295807-800d-46ab-a43d-2f0e1e479659",
   "metadata": {},
   "outputs": [],
   "source": [
    "MBONDI2_RADII = {\n",
    "    \"C\": 1.7,\n",
    "    \"N\": 1.55,\n",
    "    \"O\": 1.8,\n",
    "    \"Cl\": 1.5,\n",
    "    \"Si\": 2.1,\n",
    "    \"P\": 1.85,\n",
    "    \"S\": 1.8,\n",
    "    \"Br\": 1.7,\n",
    "}\n",
    "\n",
    "def get_mbondi2_radii(mol):\n",
    "    \"\"\"Return the mBondi2 radii of a mol as a list\"\"\"\n",
    "    periodic_table = Chem.GetPeriodicTable()\n",
    "    out = []\n",
    "    for i_atom, atom in enumerate(mol.GetAtoms()):\n",
    "        elem = periodic_table.GetElementSymbol(atom.GetAtomicNum())\n",
    "        if elem in MBONDI2_RADII:\n",
    "            radius = MBONDI2_RADII[elem]\n",
    "        elif elem == \"H\":\n",
    "            bonded = atom.GetNeighbors()[0]\n",
    "            bonded_elem = periodic_table.GetElementSymbol(bonded.GetAtomicNum())\n",
    "            if bonded_elem == \"N\":\n",
    "                radius = 1.3\n",
    "            else:\n",
    "                radius = 1.2\n",
    "        else:\n",
    "            radius = 1.5\n",
    "        out.append(radius)\n",
    "    return np.array(out)"
   ]
  },
  {
   "cell_type": "code",
   "execution_count": null,
   "id": "f42d24c5-1c08-4a42-8e90-1d5157c251ce",
   "metadata": {},
   "outputs": [],
   "source": [
    "radii = get_mbondi2_radii(lorlatinib)"
   ]
  },
  {
   "cell_type": "markdown",
   "id": "89407a43-2c5b-4766-986d-4bb1fc23504c",
   "metadata": {},
   "source": [
    "# Run MSMS\n",
    "## Usage\n",
    "* Pairs of arguments can be added as `kwargs`, usually like `density=2.0` or `probe_radius=1.0`\n",
    "* Further msms arguments can be added as `*args`, like `\"-free_vertices\"`\n",
    "## Output format\n",
    "* msms_out.vertices contains all information on vertices (position, normals, type etc.)\n",
    "* Best split it into several numpy arrays"
   ]
  },
  {
   "cell_type": "code",
   "execution_count": null,
   "id": "c89657ff-189e-4886-8cf5-164fde0938e2",
   "metadata": {},
   "outputs": [],
   "source": [
    "msms_out = msms.run_msms(points, radii, density=5.0, probe_radius=1)\n",
    "verts = msms_out.get_vertex_positions()\n",
    "normals = msms_out.get_vertex_normals()\n",
    "faces = msms_out.get_face_indices()"
   ]
  },
  {
   "cell_type": "markdown",
   "id": "b1df2a4a-a660-42cb-8beb-e73e2d8ef058",
   "metadata": {},
   "source": [
    "# Minimal usage example"
   ]
  },
  {
   "cell_type": "markdown",
   "id": "af7f4197-9610-4ea1-adf7-09bd1f458adf",
   "metadata": {},
   "source": [
    "Use `msms` to compute the surface area of a unit sphere.\n",
    "\n",
    "* The SES and SAS are analyical.\n",
    "* The volume is numerical. In the case of a single sphere, it is always too small, but converges with high density."
   ]
  },
  {
   "cell_type": "code",
   "execution_count": null,
   "id": "36bc3e08-b547-43cc-a2fa-2ac5095ceed2",
   "metadata": {},
   "outputs": [],
   "source": [
    "xyz = [[0., 0., 0.]]\n",
    "radii = [1.]\n",
    "print('expected SES', 4*np.pi)\n",
    "print('expected SAS', 4*np.pi * 2.5**2) # 2.5 = radius + probe_radius\n",
    "print('expected volume', 4/3*np.pi)\n",
    "msms.run_msms(xyz, radii, density=2).extract_ses_sas_vol()"
   ]
  },
  {
   "cell_type": "markdown",
   "id": "13e8f868-3ed1-474a-9f8b-5ceb7a43a79d",
   "metadata": {},
   "source": [
    "# Visualize\n",
    "(NOTE THIS SECTION FROM THE ORIGINAL [msms_wrapper/examples.ipynb](https://nbviewer.org/github/rinikerlab/msms_wrapper/blob/main/examples.ipynb) WON'T WORK AS WRITTEN CURRENTLY IN SESSIONS LAUNCHED VIA MyBinder. This is because a the system running MyBinder involves a remote JupyterHub and as spelled out [here in the section 'Remote JupyterHubs'](https://tutorial.pyvista.org/tutorial/00_jupyter/index.html#remote-jupyterhubs) pyvista is incompatible. At this point, I don't know enough about what type of data is involved to see how to connect it. But I think it should be possible given I know ipyvolume works in Jupyter and https://github.com/InsightSoftwareConsortium/itk-jupyter-widgets .I note that VTK should work in MyBinder as I've used it before, see even the launch badge [here](https://github.com/trungleduc/jupyterview).)\n",
    "\n",
    "If `pyvista` (or a similar package) is installed, the surface can be visualized in a Jupyter Notebook\n",
    "\n",
    "Note: this sometimes crashes when using `Run all cells`"
   ]
  },
  {
   "cell_type": "code",
   "execution_count": null,
   "id": "30b4d84f-9bf1-481e-a405-62ccb2c3d0c1",
   "metadata": {},
   "outputs": [],
   "source": [
    "import pyvista"
   ]
  },
  {
   "cell_type": "code",
   "execution_count": null,
   "id": "0bd15e6e-3196-4788-be96-c4e8cf368806",
   "metadata": {},
   "outputs": [],
   "source": [
    "def for_pyvista(arr):\n",
    "    out = []\n",
    "    for row in arr:\n",
    "        out.append(len(row))\n",
    "        out.extend(row)\n",
    "    return out"
   ]
  },
  {
   "cell_type": "code",
   "execution_count": null,
   "id": "6565a7b9-d753-4360-a421-812f531433c0",
   "metadata": {},
   "outputs": [],
   "source": [
    "surf = pyvista.PolyData(verts, faces=for_pyvista(faces))\n",
    "surf.plot()"
   ]
  }
 ],
 "metadata": {
  "kernelspec": {
   "display_name": "Python 3 (ipykernel)",
   "language": "python",
   "name": "python3"
  },
  "language_info": {
   "codemirror_mode": {
    "name": "ipython",
    "version": 3
   },
   "file_extension": ".py",
   "mimetype": "text/x-python",
   "name": "python",
   "nbconvert_exporter": "python",
   "pygments_lexer": "ipython3",
   "version": "3.10.14"
  }
 },
 "nbformat": 4,
 "nbformat_minor": 5
}
